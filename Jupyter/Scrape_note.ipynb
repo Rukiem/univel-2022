{
 "cells": [
  {
   "cell_type": "code",
   "execution_count": 18,
   "id": "c42259ef",
   "metadata": {},
   "outputs": [],
   "source": [
    "import bs4\n",
    "import requests"
   ]
  },
  {
   "cell_type": "code",
   "execution_count": 14,
   "id": "5a1769d1",
   "metadata": {},
   "outputs": [],
   "source": [
    "soup = bs4.BeautifulSoup"
   ]
  },
  {
   "cell_type": "code",
   "execution_count": 15,
   "id": "a3e547c6",
   "metadata": {},
   "outputs": [],
   "source": [
    "response = requests.get(\"https://hub360.com.ng/\")"
   ]
  },
  {
   "cell_type": "code",
   "execution_count": 16,
   "id": "783858fe",
   "metadata": {},
   "outputs": [
    {
     "data": {
      "text/plain": [
       "[<li class=\"menu-item-37515 active\" id=\"menu-item-37515\"><a href=\"https://hub360.com.ng/\">Home</a></li>,\n",
       " <li class=\"menu-item-10640\" id=\"menu-item-10640\"><a href=\"https://hub360.com.ng/blog-grid\">Learn</a></li>,\n",
       " <li class=\"menu-item-37488\" id=\"menu-item-37488\"><a href=\"https://hub360.com.ng/my-account-3/\">My Account</a></li>,\n",
       " <li class=\"menu-item-37487\" id=\"menu-item-37487\"><a href=\"https://hub360.com.ng/shop/\">Shop</a></li>,\n",
       " <li class=\"menu-item-35220\" id=\"menu-item-35220\"><a href=\"https://hub360.com.ng/wishlist/\">Wishlist</a></li>,\n",
       " <li class=\"menu-item-48449\" id=\"menu-item-48449\"><a href=\"https://hub360.com.ng/we-are-hiring-2/\">WE ARE HIRING!</a></li>,\n",
       " <li class=\"menu-item-37479\" id=\"menu-item-37479\"><a href=\"https://hub360.com.ng/product-category/accessorie/\">Accessories</a></li>,\n",
       " <li class=\"menu-item-37474\" id=\"menu-item-37474\"><a href=\"https://hub360.com.ng/product-category/modules/\">Modules</a></li>,\n",
       " <li class=\"menu-item-37475\" id=\"menu-item-37475\"><a href=\"https://hub360.com.ng/product-category/board/\">Board</a></li>,\n",
       " <li class=\"menu-item-37476\" id=\"menu-item-37476\"><a href=\"https://hub360.com.ng/product-category/accessories/\">Accessories</a></li>,\n",
       " <li class=\"menu-item-37477\" id=\"menu-item-37477\"><a href=\"https://hub360.com.ng/product-category/resistors/\">Resistors</a></li>,\n",
       " <li class=\"menu-item-37478\" id=\"menu-item-37478\"><a href=\"https://hub360.com.ng/product-category/sensors/\">Sensors</a></li>,\n",
       " <li class=\"menu-item-37480\" id=\"menu-item-37480\"><a href=\"https://hub360.com.ng/product-category/ic/\">IC’s</a></li>,\n",
       " <li class=\"menu-item-37481\" id=\"menu-item-37481\"><a href=\"https://hub360.com.ng/product-category/other-sensors/\">other sensors</a></li>,\n",
       " <li><i class=\"icon-envelope icons\"></i> info@hub360.com.ng</li>,\n",
       " <li><i class=\"icon-phone icons\"></i>07044715478</li>,\n",
       " <li><i class=\"icon-phone icons\"></i>08021118809</li>,\n",
       " <li>You have no items in your shopping cart</li>,\n",
       " <li class=\"total\">Subtotal: <span class=\"woocommerce-Price-amount amount\"><bdi><span class=\"woocommerce-Price-currencySymbol\">₦</span>0.00</bdi></span></li>,\n",
       " <li><i class=\"icon-login icons\"></i> <a href=\"https://hub360.com.ng/my-account-3/\" title=\"Sign up\"> Sign up </a></li>,\n",
       " <li> <a href=\"https://hub360.com.ng/my-account-3/\" title=\"Login\"> Login </a></li>,\n",
       " <li class=\"menu-item-37479 aligned-\"><a href=\"https://hub360.com.ng/product-category/accessorie/\">Accessories</a></li>,\n",
       " <li class=\"menu-item-37474 aligned-\"><a href=\"https://hub360.com.ng/product-category/modules/\">Modules</a></li>,\n",
       " <li class=\"menu-item-37475 aligned-\"><a href=\"https://hub360.com.ng/product-category/board/\">Board</a></li>,\n",
       " <li class=\"menu-item-37476 aligned-\"><a href=\"https://hub360.com.ng/product-category/accessories/\">Accessories</a></li>,\n",
       " <li class=\"menu-item-37477 aligned-\"><a href=\"https://hub360.com.ng/product-category/resistors/\">Resistors</a></li>,\n",
       " <li class=\"menu-item-37478 aligned-\"><a href=\"https://hub360.com.ng/product-category/sensors/\">Sensors</a></li>,\n",
       " <li class=\"menu-item-37480 aligned-\"><a href=\"https://hub360.com.ng/product-category/ic/\">IC’s</a></li>,\n",
       " <li class=\"menu-item-37481 aligned-\"><a href=\"https://hub360.com.ng/product-category/other-sensors/\">other sensors</a></li>,\n",
       " <li class=\"active menu-item-37515 aligned-\"><a href=\"https://hub360.com.ng/\">Home</a></li>,\n",
       " <li class=\"menu-item-10640 aligned-left\"><a href=\"https://hub360.com.ng/blog-grid\">Learn</a></li>,\n",
       " <li class=\"menu-item-37488 aligned-left\"><a href=\"https://hub360.com.ng/my-account-3/\">My Account</a></li>,\n",
       " <li class=\"menu-item-37487 aligned-left\"><a href=\"https://hub360.com.ng/shop/\">Shop</a></li>,\n",
       " <li class=\"menu-item-35220 aligned-left\"><a href=\"https://hub360.com.ng/wishlist/\">Wishlist</a></li>,\n",
       " <li class=\"menu-item-48449 aligned-\"><a href=\"https://hub360.com.ng/we-are-hiring-2/\">WE ARE HIRING!</a></li>,\n",
       " <li class=\"active\">\n",
       " <a class=\"tbay-image-loaded\" data-toggle=\"tab\" href=\"#tab-VkIAw-0\">\n",
       "                                                         All Categories                        </a>\n",
       " </li>,\n",
       " <li class=\"menu-item menu-item-type-post_type menu-item-object-page menu-item-home current-menu-item page_item page-item-110 current_page_item menu-item-37515 active active active active active\"><a aria-current=\"page\" href=\"https://hub360.com.ng/\">Home</a></li>,\n",
       " <li class=\"menu-item menu-item-type-custom menu-item-object-custom menu-item-10640\"><a href=\"https://hub360.com.ng/blog-grid\">Learn</a></li>,\n",
       " <li class=\"menu-item menu-item-type-post_type menu-item-object-page menu-item-37488\"><a href=\"https://hub360.com.ng/my-account-3/\">My Account</a></li>,\n",
       " <li class=\"menu-item menu-item-type-post_type menu-item-object-page menu-item-37487\"><a href=\"https://hub360.com.ng/shop/\">Shop</a></li>,\n",
       " <li class=\"menu-item menu-item-type-post_type menu-item-object-page menu-item-35220\"><a href=\"https://hub360.com.ng/wishlist/\">Wishlist</a></li>,\n",
       " <li class=\"menu-item menu-item-type-post_type menu-item-object-page menu-item-48449\"><a href=\"https://hub360.com.ng/we-are-hiring-2/\">WE ARE HIRING!</a></li>]"
      ]
     },
     "execution_count": 16,
     "metadata": {},
     "output_type": "execute_result"
    }
   ],
   "source": [
    "categories = soup(response.text).find_all(\"li\")\n",
    "categories"
   ]
  },
  {
   "cell_type": "code",
   "execution_count": 17,
   "id": "e3b3564a",
   "metadata": {},
   "outputs": [
    {
     "name": "stdout",
     "output_type": "stream",
     "text": [
      "Home\n",
      "Learn\n",
      "My Account\n",
      "Shop\n",
      "Wishlist\n",
      "WE ARE HIRING!\n",
      "Accessories\n",
      "Modules\n",
      "Board\n",
      "Accessories\n",
      "Resistors\n",
      "Sensors\n",
      "IC’s\n",
      "other sensors\n",
      " info@hub360.com.ng\n",
      "07044715478\n",
      "08021118809\n",
      "You have no items in your shopping cart\n",
      "Subtotal: ₦0.00\n",
      "  Sign up \n",
      "  Login \n",
      "Accessories\n",
      "Modules\n",
      "Board\n",
      "Accessories\n",
      "Resistors\n",
      "Sensors\n",
      "IC’s\n",
      "other sensors\n",
      "Home\n",
      "Learn\n",
      "My Account\n",
      "Shop\n",
      "Wishlist\n",
      "WE ARE HIRING!\n",
      "\n",
      "\r\n",
      "                                                        All Categories                        \n",
      "\n",
      "Home\n",
      "Learn\n",
      "My Account\n",
      "Shop\n",
      "Wishlist\n",
      "WE ARE HIRING!\n"
     ]
    }
   ],
   "source": [
    "for category in categories:\n",
    "    print(category.text)"
   ]
  },
  {
   "cell_type": "code",
   "execution_count": null,
   "id": "2df74982",
   "metadata": {},
   "outputs": [],
   "source": []
  }
 ],
 "metadata": {
  "kernelspec": {
   "display_name": "Python 3 (ipykernel)",
   "language": "python",
   "name": "python3"
  },
  "language_info": {
   "codemirror_mode": {
    "name": "ipython",
    "version": 3
   },
   "file_extension": ".py",
   "mimetype": "text/x-python",
   "name": "python",
   "nbconvert_exporter": "python",
   "pygments_lexer": "ipython3",
   "version": "3.7.9"
  }
 },
 "nbformat": 4,
 "nbformat_minor": 5
}
