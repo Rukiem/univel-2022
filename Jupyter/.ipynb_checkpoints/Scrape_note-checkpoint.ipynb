{
 "cells": [
  {
   "cell_type": "code",
   "execution_count": 28,
   "id": "c42259ef",
   "metadata": {},
   "outputs": [],
   "source": [
    "import bs4\n",
    "import requests"
   ]
  },
  {
   "cell_type": "code",
   "execution_count": 29,
   "id": "5a1769d1",
   "metadata": {},
   "outputs": [],
   "source": [
    "soup = bs4.BeautifulSoup"
   ]
  },
  {
   "cell_type": "code",
   "execution_count": 30,
   "id": "a3e547c6",
   "metadata": {},
   "outputs": [],
   "source": [
    "response = requests.get(\"https://hub360.com.ng/\")"
   ]
  },
  {
   "cell_type": "code",
   "execution_count": 31,
   "id": "783858fe",
   "metadata": {},
   "outputs": [],
   "source": [
    "categories = soup(response.text).find_all(\"li\")"
   ]
  },
  {
   "cell_type": "code",
   "execution_count": 32,
   "id": "e3b3564a",
   "metadata": {},
   "outputs": [
    {
     "name": "stdout",
     "output_type": "stream",
     "text": [
      "Home\n",
      "Learn\n",
      "My Account\n",
      "Shop\n",
      "Wishlist\n",
      "WE ARE HIRING!\n",
      "Accessories\n",
      "Modules\n",
      "Board\n",
      "Accessories\n",
      "Resistors\n",
      "Sensors\n",
      "IC’s\n",
      "other sensors\n",
      " info@hub360.com.ng\n",
      "07044715478\n",
      "08021118809\n",
      "You have no items in your shopping cart\n",
      "Subtotal: ₦0.00\n",
      "  Sign up \n",
      "  Login \n",
      "Accessories\n",
      "Modules\n",
      "Board\n",
      "Accessories\n",
      "Resistors\n",
      "Sensors\n",
      "IC’s\n",
      "other sensors\n",
      "Home\n",
      "Learn\n",
      "My Account\n",
      "Shop\n",
      "Wishlist\n",
      "WE ARE HIRING!\n",
      "\n",
      "\r\n",
      "                                                        All Categories                        \n",
      "\n",
      "Home\n",
      "Learn\n",
      "My Account\n",
      "Shop\n",
      "Wishlist\n",
      "WE ARE HIRING!\n"
     ]
    }
   ],
   "source": [
    "for category in categories:\n",
    "    print(category.text)"
   ]
  },
  {
   "cell_type": "code",
   "execution_count": null,
   "id": "2df74982",
   "metadata": {},
   "outputs": [],
   "source": []
  }
 ],
 "metadata": {
  "kernelspec": {
   "display_name": "Python 3 (ipykernel)",
   "language": "python",
   "name": "python3"
  },
  "language_info": {
   "codemirror_mode": {
    "name": "ipython",
    "version": 3
   },
   "file_extension": ".py",
   "mimetype": "text/x-python",
   "name": "python",
   "nbconvert_exporter": "python",
   "pygments_lexer": "ipython3",
   "version": "3.7.9"
  }
 },
 "nbformat": 4,
 "nbformat_minor": 5
}
